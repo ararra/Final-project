{
 "metadata": {
  "name": "",
  "signature": "sha256:49e06c5796c7a8ff7fe9202013c2a91090506e79e0d807f35b72f1b7cec1900a"
 },
 "nbformat": 3,
 "nbformat_minor": 0,
 "worksheets": [
  {
   "cells": [
    {
     "cell_type": "code",
     "collapsed": false,
     "input": [
      "from IPython.display import Image"
     ],
     "language": "python",
     "metadata": {},
     "outputs": [],
     "prompt_number": 12
    },
    {
     "cell_type": "heading",
     "level": 1,
     "metadata": {},
     "source": [
      "Best Approximation"
     ]
    },
    {
     "cell_type": "markdown",
     "metadata": {},
     "source": [
      "Our goal is to approximate a given function f(x) within an interval with a polynomial p(x) of degree n.\n",
      "\n",
      "The polynomial should have the smallest possible deviation from the function within the interval, satisfying the equation:"
     ]
    },
    {
     "cell_type": "markdown",
     "metadata": {},
     "source": [
      "$$ \\max_{x \\in a,b}|f(x) - p^{*}(x)| = \\min_{p\\in P^{n}} \\max_{x\\in a,b}|f(x) - p(x)| $$"
     ]
    },
    {
     "cell_type": "markdown",
     "metadata": {},
     "source": [
      "The approximation becomes more accurate the higher the value of n."
     ]
    },
    {
     "cell_type": "markdown",
     "metadata": {},
     "source": [
      "For the refrence we use Chebyshev Nodes to reduce the amount of iterations necessary to find an acceptable approximation.\n",
      "Chebyshev Nodes is the most effective method for choosing initial reference values for a wide range of functions. This becomes more apparent the higher the degree of the function."
     ]
    },
    {
     "cell_type": "markdown",
     "metadata": {},
     "source": [
      "The Remez algorithm is applied to find the polynomial which has the smallest maximum deviation from the original function, measured by the error, which is |f(x)-p(x)|. Given a high enough number of iterations and degree of the polynomial, the approximation can become exact within an interval; this generally happens faster than for example a Taylor approximation which takes an infinite amount of iterations to become exact."
     ]
    },
    {
     "cell_type": "code",
     "collapsed": false,
     "input": [
      "Image(url=\"Remez2.gif\")"
     ],
     "language": "python",
     "metadata": {},
     "outputs": [
      {
       "html": [
        "<img src=\"Remez2.gif\"/>"
       ],
       "metadata": {},
       "output_type": "pyout",
       "prompt_number": 13,
       "text": [
        "<IPython.core.display.Image at 0x10aef3a20>"
       ]
      }
     ],
     "prompt_number": 13
    },
    {
     "cell_type": "heading",
     "level": 2,
     "metadata": {},
     "source": [
      "Timeit"
     ]
    },
    {
     "cell_type": "markdown",
     "metadata": {},
     "source": [
      "We now use the timeit module and evaluate how our remez behaves on a few different functions.\n",
      "Degree 8."
     ]
    },
    {
     "cell_type": "code",
     "collapsed": false,
     "input": [
      "Image(url=\"time.png\")"
     ],
     "language": "python",
     "metadata": {},
     "outputs": [
      {
       "html": [
        "<img src=\"time.png\"/>"
       ],
       "metadata": {},
       "output_type": "pyout",
       "prompt_number": 15,
       "text": [
        "<IPython.core.display.Image at 0x10aef3748>"
       ]
      }
     ],
     "prompt_number": 15
    },
    {
     "cell_type": "heading",
     "level": 3,
     "metadata": {},
     "source": [
      "Unittests"
     ]
    },
    {
     "cell_type": "markdown",
     "metadata": {},
     "source": [
      ".....\n",
      "----------------------------------------------------------------------\n",
      "Ran 5 tests in 0.001s\n",
      "\n",
      "OK"
     ]
    },
    {
     "cell_type": "heading",
     "level": 4,
     "metadata": {},
     "source": [
      "Our Solutions"
     ]
    },
    {
     "cell_type": "code",
     "collapsed": false,
     "input": [
      "    def CreatePolynomial(self, test_ref = None):\n",
      "        ref = array(self.Reference)\n",
      "        def VanderMonde():            \n",
      "            pwr = arange(ref.size-1, -1, -1) -1\n",
      "            pwr[-1] = 0\n",
      "            matrix = ref.reshape(-1,1)**pwr.reshape(1,-1)\n",
      "            matrix[:,-1] *= -1\n",
      "            matrix[:,-1] **= arange(0, ref.size)\n",
      "            return(matrix)\n",
      "        \n",
      "        def SolveEquationSystem():\n",
      "            Coeff = solve(VanderMonde(), self.Function(ref))\n",
      "            return(Coeff[:-1], Coeff[-1])\n",
      "  \n",
      "        self.coefficients, self.error = SolveEquationSystem()    "
     ],
     "language": "python",
     "metadata": {},
     "outputs": []
    },
    {
     "cell_type": "code",
     "collapsed": false,
     "input": [
      "    def GetPoint(self):\n",
      "        ErrorAt = lambda X: abs(self.Function(X) - polyval(self.coefficients, X))\n",
      "        ExtendedError = [ ErrorAt(x) for x in self.DenseGrid]\n",
      "\n",
      "        for x in self.DenseGrid:\n",
      "            if ErrorAt(x) == max(ExtendedError):\n",
      "                break\n",
      "        return(x)"
     ],
     "language": "python",
     "metadata": {},
     "outputs": []
    },
    {
     "cell_type": "code",
     "collapsed": false,
     "input": [
      "        for index in range(LenghtOfReference):\n",
      "            \"\"\"\n",
      "            underfunctions\n",
      "            \"\"\"\n",
      "            if MaxErrorAround(index) == True:\n",
      "                if SignAlternatesAt(PointAt(index)) == True:\n",
      "                    ExhangePointAt(index)\n",
      "                else:\n",
      "                    ExhangePointAt(index+1)\n",
      "            elif MaxErrorIsBelow() == True:\n",
      "                if SignAlternatesAt(LowerEndPoint()) == True:\n",
      "                    ExhangePointAt(0)\n",
      "                    SortReference()\n",
      "                else:\n",
      "                    ExhangePointAt(-1)\n",
      "                    SortReference()\n",
      "            elif MaxErrorIsAbove() == True:\n",
      "                if SignAlternatesAt(UpperEndPoint()) == True:\n",
      "                    ExhangePointAt(-1)\n",
      "                    SortReference()\n",
      "                else:\n",
      "                    ExhangePointAt(0)\n",
      "                    SortReference()"
     ],
     "language": "python",
     "metadata": {},
     "outputs": []
    },
    {
     "cell_type": "code",
     "collapsed": false,
     "input": [
      "class BestApprox(object):\n",
      "    def __init__(self,\n",
      "                 Function, \n",
      "                 Interval,\n",
      "                 MaxNumberOfIterations = 1000, \n",
      "                 Tolerance = 1.e-3):            \n",
      "        if not isinstance(Interval, (list,tuple,None)):\n",
      "            raise Exception(\"Interval must be of type list,array or tuple\")\n",
      "        for point in Interval:\n",
      "            if not isinstance(point, (float,int)):\n",
      "                raise Exception(\"should be float or int!\")                \n",
      "        if len(Interval) != 2: Interval = [min(Interval), max(Interval)]\n",
      "        if Function == None: raise Exception(\"Function needs attributes\")\n",
      "        try: [Function(x) for x in linspace(Interval[0], Interval[1], 100)]\n",
      "        except Exception: raise Exception(\"Function is not well defined\")            \n",
      "                 \n",
      "    def Remez(self, Reference = None, Degree=None): \n",
      "        if not isinstance(Reference, (list, ndarray)): \n",
      "            raise Exception('Reference is required to be of type list or array')\n",
      "        if not isinstance(Degree, (int,float)):\n",
      "            if self.Degree != len(Reference)-2:\n",
      "                raise Exception('Degree is required')\n",
      "        if Degree < 0: Degree = abs(Degree)\n",
      "        if isinstance(Degree, float): Degree = round(Degree)\n",
      "        if len(Reference) != Degree +2: raise Exception('Dimensions did not match')    "
     ],
     "language": "python",
     "metadata": {},
     "outputs": [],
     "prompt_number": 6
    },
    {
     "cell_type": "code",
     "collapsed": false,
     "input": [],
     "language": "python",
     "metadata": {},
     "outputs": []
    }
   ],
   "metadata": {}
  }
 ]
}